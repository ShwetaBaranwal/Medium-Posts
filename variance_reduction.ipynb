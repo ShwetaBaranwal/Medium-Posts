{
  "nbformat": 4,
  "nbformat_minor": 0,
  "metadata": {
    "colab": {
      "name": "variance_reduction.ipynb",
      "provenance": [],
      "collapsed_sections": [],
      "authorship_tag": "ABX9TyMUZq2MGJ6MkIvce5Vr3IG6",
      "include_colab_link": true
    },
    "kernelspec": {
      "name": "python3",
      "display_name": "Python 3"
    },
    "language_info": {
      "name": "python"
    }
  },
  "cells": [
    {
      "cell_type": "markdown",
      "metadata": {
        "id": "view-in-github",
        "colab_type": "text"
      },
      "source": [
        "<a href=\"https://colab.research.google.com/github/ShwetaBaranwal/Medium-Posts/blob/master/variance_reduction.ipynb\" target=\"_parent\"><img src=\"https://colab.research.google.com/assets/colab-badge.svg\" alt=\"Open In Colab\"/></a>"
      ]
    },
    {
      "cell_type": "code",
      "execution_count": 1,
      "metadata": {
        "id": "ei0tUHgvCBly"
      },
      "outputs": [],
      "source": [
        "import pandas as pd\n",
        "import numpy as np\n",
        "import matplotlib.pyplot as plt\n",
        "import seaborn as sns\n",
        "sns.set_style(\"white\")\n",
        "import warnings\n",
        "warnings.filterwarnings(\"ignore\")"
      ]
    },
    {
      "cell_type": "markdown",
      "source": [
        "### Stratification"
      ],
      "metadata": {
        "id": "hnhn56DhCGqj"
      }
    },
    {
      "cell_type": "code",
      "source": [
        "def generate_stratified_data(size, treatment_effect):\n",
        "  df = pd.DataFrame()\n",
        "  df_1 = pd.DataFrame({'strata': 1, 'y': np.random.normal(10, 1, size=size)})\n",
        "  df_2 = pd.DataFrame({'strata': 2, 'y': np.random.normal(15, 2, size=size)})\n",
        "  df_3 = pd.DataFrame({'strata': 3, 'y': np.random.normal(20, 3, size=size)})\n",
        "  df_4 = pd.DataFrame({'strata': 4, 'y': np.random.normal(25, 4, size=size)})\n",
        "  df = df_1.append(df_2).append(df_3).append(df_4)\n",
        "  df['group'] = np.random.randint(0,2,df.shape[0])\n",
        "  df.loc[df[\"group\"] == 1, 'y'] += treatment_effect\n",
        "  return df"
      ],
      "metadata": {
        "id": "SlVHKp0VCGEm"
      },
      "execution_count": 2,
      "outputs": []
    },
    {
      "cell_type": "code",
      "source": [
        "def meandiff(df):\n",
        "  return df[df['group']==1]['y'].mean() - df[df['group']==0]['y'].mean()\n"
      ],
      "metadata": {
        "id": "x7QbSJDzJMYG"
      },
      "execution_count": 3,
      "outputs": []
    },
    {
      "cell_type": "code",
      "source": [
        "def stratify_meandiff(df):\n",
        "  s = 0\n",
        "  N = df.shape[0]\n",
        "  for i in range(1,5):\n",
        "    df_k = df[df['strata']==i]\n",
        "    w = df_k.shape[0]/N\n",
        "    yt = df_k[df_k['group']==1]['y']\n",
        "    yc = df_k[df_k['group']==0]['y']\n",
        "    s += w*(yt.mean() - yc.mean())\n",
        "  return s"
      ],
      "metadata": {
        "id": "Wb-zJpxSVm6M"
      },
      "execution_count": 4,
      "outputs": []
    },
    {
      "cell_type": "code",
      "source": [
        "sim_meandiff = []\n",
        "sim_stratify_meandiff = []\n",
        "\n",
        "for i in range(400):\n",
        "  df = generate_stratified_data(50, 1)\n",
        "  sim_meandiff.append(meandiff(df))\n",
        "  sim_stratify_meandiff.append(stratify_meandiff(df))\n"
      ],
      "metadata": {
        "id": "g1BQA08yYNG5"
      },
      "execution_count": 5,
      "outputs": []
    },
    {
      "cell_type": "code",
      "source": [
        "np.mean(sim_stratify_meandiff), np.mean(sim_meandiff)"
      ],
      "metadata": {
        "colab": {
          "base_uri": "https://localhost:8080/"
        },
        "id": "y6PHuy_-ZGKv",
        "outputId": "fac8b904-f77e-457d-cf34-4860f008806b"
      },
      "execution_count": 6,
      "outputs": [
        {
          "output_type": "execute_result",
          "data": {
            "text/plain": [
              "(0.9895628668470193, 0.9866178223107798)"
            ]
          },
          "metadata": {},
          "execution_count": 6
        }
      ]
    },
    {
      "cell_type": "code",
      "source": [
        "np.var(sim_stratify_meandiff), np.var(sim_meandiff)"
      ],
      "metadata": {
        "colab": {
          "base_uri": "https://localhost:8080/"
        },
        "id": "bXNanCAxZH1H",
        "outputId": "63a86c47-5f7f-4824-c481-20c90e78ba34"
      },
      "execution_count": 7,
      "outputs": [
        {
          "output_type": "execute_result",
          "data": {
            "text/plain": [
              "(0.15153116677701706, 0.8220925979039723)"
            ]
          },
          "metadata": {},
          "execution_count": 7
        }
      ]
    },
    {
      "cell_type": "code",
      "source": [
        "# Plot\n",
        "kwargs = dict(hist_kws={'alpha':.6}, kde_kws={'linewidth':2})\n",
        "\n",
        "plt.figure(figsize=(10,7), dpi= 80)\n",
        "sns.distplot(sim_stratify_meandiff, color=\"dodgerblue\", label=\"delta_stratified\", **kwargs)\n",
        "sns.distplot(sim_meandiff, color=\"orange\", label=\"delta_unstratified\", **kwargs)\n",
        "plt.legend();\n"
      ],
      "metadata": {
        "colab": {
          "base_uri": "https://localhost:8080/",
          "height": 473
        },
        "id": "juSAf7CDZfvS",
        "outputId": "e3078d39-344b-4eae-c96f-d87f657ffa8e"
      },
      "execution_count": 8,
      "outputs": [
        {
          "output_type": "display_data",
          "data": {
            "image/png": "[encoded data removed]",
            "text/plain": [
              "<Figure size 800x560 with 1 Axes>"
            ]
          },
          "metadata": {
            "needs_background": "light"
          }
        }
      ]
    },
    {
      "cell_type": "code",
      "source": [
        ""
      ],
      "metadata": {
        "id": "F29xfeBPZhUq"
      },
      "execution_count": null,
      "outputs": []
    },
    {
      "cell_type": "markdown",
      "source": [
        "### CUPED"
      ],
      "metadata": {
        "id": "odx_Kh-Va_8i"
      }
    },
    {
      "cell_type": "code",
      "source": [
        "def generate_data(treatment_effect, size):\n",
        "  mu = np.array([5.0, 0.0])\n",
        "\n",
        "  # The desired covariance matrix.\n",
        "  r = np.array([\n",
        "          [ 3.40, 2.75],\n",
        "          [ 2.75, 1.50]\n",
        "      ])\n",
        "\n",
        "  # Generate the random samples.\n",
        "  rng = np.random.default_rng()\n",
        "  data = rng.multivariate_normal(mu, r, size=size)\n",
        "  df = pd.DataFrame()\n",
        "  df['y'] = data[:,0]\n",
        "  df['X'] = data[:,1]\n",
        "  df['group'] = np.random.randint(0,2, size = size)\n",
        "  df.loc[df[\"group\"] == 1, 'y'] += treatment_effect\n",
        "  return df"
      ],
      "metadata": {
        "id": "Rgyg-x3gbCNw"
      },
      "execution_count": 9,
      "outputs": []
    },
    {
      "cell_type": "code",
      "source": [
        "d = generate_data(2, 100)\n",
        "d.head()"
      ],
      "metadata": {
        "colab": {
          "base_uri": "https://localhost:8080/",
          "height": 206
        },
        "id": "qwISi_UlbCKH",
        "outputId": "b8f3b9a5-251a-4b0e-8a85-530620268ba5"
      },
      "execution_count": 10,
      "outputs": [
        {
          "output_type": "execute_result",
          "data": {
            "text/html": [
              "\n",
              "  <div id=\"df-9fb2d442-7ba7-4ee3-b28a-79a933a0706c\">\n",
              "    <div class=\"colab-df-container\">\n",
              "      <div>\n",
              "<style scoped>\n",
              "    .dataframe tbody tr th:only-of-type {\n",
              "        vertical-align: middle;\n",
              "    }\n",
              "\n",
              "    .dataframe tbody tr th {\n",
              "        vertical-align: top;\n",
              "    }\n",
              "\n",
              "    .dataframe thead th {\n",
              "        text-align: right;\n",
              "    }\n",
              "</style>\n",
              "<table border=\"1\" class=\"dataframe\">\n",
              "  <thead>\n",
              "    <tr style=\"text-align: right;\">\n",
              "      <th></th>\n",
              "      <th>y</th>\n",
              "      <th>X</th>\n",
              "      <th>group</th>\n",
              "    </tr>\n",
              "  </thead>\n",
              "  <tbody>\n",
              "    <tr>\n",
              "      <th>0</th>\n",
              "      <td>4.315428</td>\n",
              "      <td>-1.361751</td>\n",
              "      <td>0</td>\n",
              "    </tr>\n",
              "    <tr>\n",
              "      <th>1</th>\n",
              "      <td>7.365380</td>\n",
              "      <td>-0.746655</td>\n",
              "      <td>1</td>\n",
              "    </tr>\n",
              "    <tr>\n",
              "      <th>2</th>\n",
              "      <td>5.557211</td>\n",
              "      <td>-0.046588</td>\n",
              "      <td>0</td>\n",
              "    </tr>\n",
              "    <tr>\n",
              "      <th>3</th>\n",
              "      <td>5.595958</td>\n",
              "      <td>-0.177928</td>\n",
              "      <td>0</td>\n",
              "    </tr>\n",
              "    <tr>\n",
              "      <th>4</th>\n",
              "      <td>3.912710</td>\n",
              "      <td>-2.493686</td>\n",
              "      <td>1</td>\n",
              "    </tr>\n",
              "  </tbody>\n",
              "</table>\n",
              "</div>\n",
              "      <button class=\"colab-df-convert\" onclick=\"convertToInteractive('df-9fb2d442-7ba7-4ee3-b28a-79a933a0706c')\"\n",
              "              title=\"Convert this dataframe to an interactive table.\"\n",
              "              style=\"display:none;\">\n",
              "        \n",
              "  <svg xmlns=\"http://www.w3.org/2000/svg\" height=\"24px\"viewBox=\"0 0 24 24\"\n",
              "       width=\"24px\">\n",
              "    <path d=\"M0 0h24v24H0V0z\" fill=\"none\"/>\n",
              "    <path d=\"M18.56 5.44l.94 2.06.94-2.06 2.06-.94-2.06-.94-.94-2.06-.94 2.06-2.06.94zm-11 1L8.5 8.5l.94-2.06 2.06-.94-2.06-.94L8.5 2.5l-.94 2.06-2.06.94zm10 10l.94 2.06.94-2.06 2.06-.94-2.06-.94-.94-2.06-.94 2.06-2.06.94z\"/><path d=\"M17.41 7.96l-1.37-1.37c-.4-.4-.92-.59-1.43-.59-.52 0-1.04.2-1.43.59L10.3 9.45l-7.72 7.72c-.78.78-.78 2.05 0 2.83L4 21.41c.39.39.9.59 1.41.59.51 0 1.02-.2 1.41-.59l7.78-7.78 2.81-2.81c.8-.78.8-2.07 0-2.86zM5.41 20L4 18.59l7.72-7.72 1.47 1.35L5.41 20z\"/>\n",
              "  </svg>\n",
              "      </button>\n",
              "      \n",
              "  <style>\n",
              "    .colab-df-container {\n",
              "      display:flex;\n",
              "      flex-wrap:wrap;\n",
              "      gap: 12px;\n",
              "    }\n",
              "\n",
              "    .colab-df-convert {\n",
              "      background-color: #E8F0FE;\n",
              "      border: none;\n",
              "      border-radius: 50%;\n",
              "      cursor: pointer;\n",
              "      display: none;\n",
              "      fill: #1967D2;\n",
              "      height: 32px;\n",
              "      padding: 0 0 0 0;\n",
              "      width: 32px;\n",
              "    }\n",
              "\n",
              "    .colab-df-convert:hover {\n",
              "      background-color: #E2EBFA;\n",
              "      box-shadow: 0px 1px 2px rgba(60, 64, 67, 0.3), 0px 1px 3px 1px rgba(60, 64, 67, 0.15);\n",
              "      fill: #174EA6;\n",
              "    }\n",
              "\n",
              "    [theme=dark] .colab-df-convert {\n",
              "      background-color: #3B4455;\n",
              "      fill: #D2E3FC;\n",
              "    }\n",
              "\n",
              "    [theme=dark] .colab-df-convert:hover {\n",
              "      background-color: #434B5C;\n",
              "      box-shadow: 0px 1px 3px 1px rgba(0, 0, 0, 0.15);\n",
              "      filter: drop-shadow(0px 1px 2px rgba(0, 0, 0, 0.3));\n",
              "      fill: #FFFFFF;\n",
              "    }\n",
              "  </style>\n",
              "\n",
              "      <script>\n",
              "        const buttonEl =\n",
              "          document.querySelector('#df-9fb2d442-7ba7-4ee3-b28a-79a933a0706c button.colab-df-convert');\n",
              "        buttonEl.style.display =\n",
              "          google.colab.kernel.accessAllowed ? 'block' : 'none';\n",
              "\n",
              "        async function convertToInteractive(key) {\n",
              "          const element = document.querySelector('#df-9fb2d442-7ba7-4ee3-b28a-79a933a0706c');\n",
              "          const dataTable =\n",
              "            await google.colab.kernel.invokeFunction('convertToInteractive',\n",
              "                                                     [key], {});\n",
              "          if (!dataTable) return;\n",
              "\n",
              "          const docLinkHtml = 'Like what you see? Visit the ' +\n",
              "            '<a target=\"_blank\" href=https://colab.research.google.com/notebooks/data_table.ipynb>data table notebook</a>'\n",
              "            + ' to learn more about interactive tables.';\n",
              "          element.innerHTML = '';\n",
              "          dataTable['output_type'] = 'display_data';\n",
              "          await google.colab.output.renderOutput(dataTable, element);\n",
              "          const docLink = document.createElement('div');\n",
              "          docLink.innerHTML = docLinkHtml;\n",
              "          element.appendChild(docLink);\n",
              "        }\n",
              "      </script>\n",
              "    </div>\n",
              "  </div>\n",
              "  "
            ],
            "text/plain": [
              "          y         X  group\n",
              "0  4.315428 -1.361751      0\n",
              "1  7.365380 -0.746655      1\n",
              "2  5.557211 -0.046588      0\n",
              "3  5.595958 -0.177928      0\n",
              "4  3.912710 -2.493686      1"
            ]
          },
          "metadata": {},
          "execution_count": 10
        }
      ]
    },
    {
      "cell_type": "code",
      "source": [
        "def meandiff(df):\n",
        "  return df[df['group']==1]['y'].mean() - df[df['group']==0]['y'].mean()\n"
      ],
      "metadata": {
        "id": "6L9sicBggGMh"
      },
      "execution_count": 11,
      "outputs": []
    },
    {
      "cell_type": "code",
      "source": [
        "meandiff(d)"
      ],
      "metadata": {
        "colab": {
          "base_uri": "https://localhost:8080/"
        },
        "id": "AZ-jSWqydX2e",
        "outputId": "4319768b-1aff-45e0-b69e-e10fdaa467f2"
      },
      "execution_count": 12,
      "outputs": [
        {
          "output_type": "execute_result",
          "data": {
            "text/plain": [
              "1.880959720341898"
            ]
          },
          "metadata": {},
          "execution_count": 12
        }
      ]
    },
    {
      "cell_type": "code",
      "source": [
        "def adjusted_meandiff(df):\n",
        "  cv = np.cov(df['X'], df['y'])\n",
        "  theta = df.cov()['X']['y'] / df.cov()['X']['X']\n",
        "  mean_X = np.mean(df['X'])\n",
        "\n",
        "  df_trt = df[df['group']==1]\n",
        "  df_cntrl = df[df['group']==0]\n",
        "\n",
        "  adjusted_trt = df_trt['y'] - (df_trt['X'] - mean_X) * theta \n",
        "  adjusted_cntrl = df_cntrl['y'] - (df_cntrl['X'] - mean_X) * theta \n",
        "\n",
        "  adjusted_meandiff = adjusted_trt.mean() - adjusted_cntrl.mean()\n",
        "\n",
        "  # print(1-np.square(d.corr()['X']['y']), np.var(np.concatenate([adjusted_trt,adjusted_cntrl]))/np.var(df['y']))\n",
        "  return adjusted_meandiff\n"
      ],
      "metadata": {
        "id": "ivYHsZETcw_j"
      },
      "execution_count": 13,
      "outputs": []
    },
    {
      "cell_type": "code",
      "source": [
        "adjusted_meandiff(d)"
      ],
      "metadata": {
        "colab": {
          "base_uri": "https://localhost:8080/"
        },
        "id": "cWVp9_xog9Ky",
        "outputId": "13034af1-d1bd-4b8b-d533-4966134b24cb"
      },
      "execution_count": 14,
      "outputs": [
        {
          "output_type": "execute_result",
          "data": {
            "text/plain": [
              "1.982330583238098"
            ]
          },
          "metadata": {},
          "execution_count": 14
        }
      ]
    },
    {
      "cell_type": "code",
      "source": [
        "sim_meandiff = []\n",
        "sim_adjusted_meandiff = []\n",
        "\n",
        "for i in range(400):\n",
        "  df = generate_data(1, 50)\n",
        "  sim_meandiff.append(meandiff(df))\n",
        "  sim_adjusted_meandiff.append(adjusted_meandiff(df))\n"
      ],
      "metadata": {
        "id": "YdygMzkDjosU"
      },
      "execution_count": 15,
      "outputs": []
    },
    {
      "cell_type": "code",
      "source": [
        "# Plot\n",
        "kwargs = dict(hist_kws={'alpha':.6}, kde_kws={'linewidth':2})\n",
        "\n",
        "plt.figure(figsize=(10,7), dpi= 80)\n",
        "sns.distplot(sim_adjusted_meandiff, color=\"dodgerblue\", label=\"delta_cuped\", **kwargs)\n",
        "sns.distplot(sim_meandiff, color=\"orange\", label=\"delta\", **kwargs)\n",
        "plt.legend();\n"
      ],
      "metadata": {
        "colab": {
          "base_uri": "https://localhost:8080/",
          "height": 473
        },
        "id": "ODQZxAmvkS2m",
        "outputId": "705e212a-f5dd-4bb2-95e6-b2bdddca32a5"
      },
      "execution_count": 16,
      "outputs": [
        {
          "output_type": "display_data",
          "data": {
            "image/png": "[encoded data removed]",
            "text/plain": [
              "<Figure size 800x560 with 1 Axes>"
            ]
          },
          "metadata": {
            "needs_background": "light"
          }
        }
      ]
    },
    {
      "cell_type": "code",
      "source": [
        ""
      ],
      "metadata": {
        "id": "6BFJBszmCGiX"
      },
      "execution_count": null,
      "outputs": []
    }
  ]
}